{
 "cells": [
  {
   "cell_type": "code",
   "execution_count": null,
   "metadata": {},
   "outputs": [],
   "source": [
    "from itertools import permutations\n",
    "primes = [2,3,5,7,11,13,17]\n",
    "\n",
    "nums = [0,1,2,3,4,5,6,7,8,9]\n",
    "perm = permutations(nums,10)\n",
    "perm = list(perm)\n",
    "summ = 0\n",
    "def controller(c):\n",
    "    num = 1\n",
    "    while num<8:\n",
    "        if int(str(c)[(num):num+3])%primes[num-1]!=0:\n",
    "            return False\n",
    "        num += 1\n",
    "    return True\n",
    "    \n",
    "for each in perm:\n",
    "    each = list(each)\n",
    "    b = [str(x) for x in each]\n",
    "    c = int(''.join(b))\n",
    "    if controller(c) == True:\n",
    "        summ += c\n",
    "\n",
    "print(summ)\n",
    "            \n",
    "        \n",
    "            "
   ]
  },
  {
   "cell_type": "code",
   "execution_count": null,
   "metadata": {},
   "outputs": [],
   "source": []
  },
  {
   "cell_type": "code",
   "execution_count": null,
   "metadata": {},
   "outputs": [],
   "source": []
  }
 ],
 "metadata": {
  "kernelspec": {
   "display_name": "Python 3",
   "language": "python",
   "name": "python3"
  },
  "language_info": {
   "codemirror_mode": {
    "name": "ipython",
    "version": 3
   },
   "file_extension": ".py",
   "mimetype": "text/x-python",
   "name": "python",
   "nbconvert_exporter": "python",
   "pygments_lexer": "ipython3",
   "version": "3.8.1"
  }
 },
 "nbformat": 4,
 "nbformat_minor": 4
}
