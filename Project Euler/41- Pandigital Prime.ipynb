{
 "cells": [
  {
   "cell_type": "code",
   "execution_count": 1,
   "metadata": {},
   "outputs": [
    {
     "name": "stdout",
     "output_type": "stream",
     "text": [
      "7652413\n"
     ]
    }
   ],
   "source": [
    "from itertools import permutations\n",
    "\n",
    "def IsPrime(x):\n",
    "    for i in range(2,int(x**(1/2)+1)):\n",
    "        if x%i==0:\n",
    "            return False\n",
    "    return True\n",
    "\n",
    "\n",
    "perms = []\n",
    "for every in range(1,10):\n",
    "    nums = [1,2,3,4,5,6,7,8,9]\n",
    "    perm = permutations(nums[0:every],every)\n",
    "    perm = list(perm)\n",
    "    for each in perm:\n",
    "        each = list(each)\n",
    "        b = [str(x) for x in each]\n",
    "        c = int(''.join(b))\n",
    "        if IsPrime(c) == True:\n",
    "            perms.append(c)\n",
    "\n",
    "print(perms[-1])\n"
   ]
  },
  {
   "cell_type": "code",
   "execution_count": null,
   "metadata": {},
   "outputs": [],
   "source": []
  },
  {
   "cell_type": "code",
   "execution_count": null,
   "metadata": {},
   "outputs": [],
   "source": []
  },
  {
   "cell_type": "code",
   "execution_count": null,
   "metadata": {},
   "outputs": [],
   "source": []
  },
  {
   "cell_type": "code",
   "execution_count": null,
   "metadata": {},
   "outputs": [],
   "source": []
  }
 ],
 "metadata": {
  "kernelspec": {
   "display_name": "Python 3",
   "language": "python",
   "name": "python3"
  },
  "language_info": {
   "codemirror_mode": {
    "name": "ipython",
    "version": 3
   },
   "file_extension": ".py",
   "mimetype": "text/x-python",
   "name": "python",
   "nbconvert_exporter": "python",
   "pygments_lexer": "ipython3",
   "version": "3.8.1"
  }
 },
 "nbformat": 4,
 "nbformat_minor": 4
}
