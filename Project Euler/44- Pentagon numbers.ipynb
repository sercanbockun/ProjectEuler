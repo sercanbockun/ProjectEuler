{
 "cells": [
  {
   "cell_type": "code",
   "execution_count": null,
   "metadata": {},
   "outputs": [],
   "source": [
    "def IsPenta(x):\n",
    "    if ((24*x+1)**(1/2) + 1 )%6 ==0:\n",
    "        return True\n",
    "    return False\n",
    "\n",
    "def Pentagon(n):\n",
    "    return n*(3*n-1)/2\n",
    "\n",
    "\n",
    "i = 1\n",
    "while True:\n",
    "    for j in range (1,i):\n",
    "        summ = Pentagon(i) + Pentagon(j)\n",
    "        subs = abs(Pentagon(i)- Pentagon(j)) \n",
    "        if IsPenta(summ)==True and IsPenta(subs) == True:\n",
    "            print (subs)\n",
    "            False\n",
    "    \n",
    "    i += 1"
   ]
  },
  {
   "cell_type": "code",
   "execution_count": null,
   "metadata": {},
   "outputs": [],
   "source": []
  }
 ],
 "metadata": {
  "kernelspec": {
   "display_name": "Python 3",
   "language": "python",
   "name": "python3"
  },
  "language_info": {
   "codemirror_mode": {
    "name": "ipython",
    "version": 3
   },
   "file_extension": ".py",
   "mimetype": "text/x-python",
   "name": "python",
   "nbconvert_exporter": "python",
   "pygments_lexer": "ipython3",
   "version": "3.8.1"
  }
 },
 "nbformat": 4,
 "nbformat_minor": 4
}
